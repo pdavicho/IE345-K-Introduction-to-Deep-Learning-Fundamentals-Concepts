{
 "cells": [
  {
   "cell_type": "markdown",
   "metadata": {},
   "source": [
    "## IE 345 - K “Introduction to Deep Learning: Fundamentals Concepts” \n",
    "#### Resolution of the first example of the book Deep Learning with Python.\n",
    "##### pg. 68 - 74"
   ]
  },
  {
   "cell_type": "code",
   "execution_count": 2,
   "metadata": {},
   "outputs": [
    {
     "name": "stderr",
     "output_type": "stream",
     "text": [
      "Using TensorFlow backend.\n"
     ]
    }
   ],
   "source": [
    "import keras\n",
    "from keras.datasets import reuters\n",
    "import numpy as np"
   ]
  },
  {
   "cell_type": "code",
   "execution_count": 3,
   "metadata": {},
   "outputs": [],
   "source": [
    "(train_data, train_labels), (test_data, test_labels) = reuters.load_data(num_words=10000)"
   ]
  },
  {
   "cell_type": "code",
   "execution_count": 4,
   "metadata": {},
   "outputs": [
    {
     "name": "stdout",
     "output_type": "stream",
     "text": [
      "8982 train sequences\n",
      "2246 test sequences\n",
      "Train_data shape (8982,)\n",
      "Test_data shape (2246,)\n",
      "Train_labels shape (8982,)\n",
      "Test_labels shape (2246,)\n"
     ]
    }
   ],
   "source": [
    "print(len(train_data), 'train sequences')\n",
    "print(len(test_data), 'test sequences')\n",
    "print('Train_data shape', train_data.shape)\n",
    "print('Test_data shape', test_data.shape)\n",
    "print('Train_labels shape', train_labels.shape)\n",
    "print('Test_labels shape', test_labels.shape)"
   ]
  },
  {
   "cell_type": "code",
   "execution_count": 5,
   "metadata": {},
   "outputs": [
    {
     "name": "stdout",
     "output_type": "stream",
     "text": [
      "[1, 245, 273, 207, 156, 53, 74, 160, 26, 14, 46, 296, 26, 39, 74, 2979, 3554, 14, 46, 4689, 4329, 86, 61, 3499, 4795, 14, 61, 451, 4329, 17, 12]\n"
     ]
    }
   ],
   "source": [
    "print(train_data[10])"
   ]
  },
  {
   "cell_type": "code",
   "execution_count": 6,
   "metadata": {},
   "outputs": [
    {
     "name": "stdout",
     "output_type": "stream",
     "text": [
      "Decoder newswire:  ? ? ? said as a result of its december acquisition of space co it expects earnings per share in 1987 of 1 15 to 1 30 dlrs per share up from 70 cts in 1986 the company said pretax net should rise to nine to 10 mln dlrs from six mln dlrs in 1986 and rental operation revenues to 19 to 22 mln dlrs from 12 5 mln dlrs it said cash flow per share this year should be 2 50 to three dlrs reuter 3\n",
      "Train_labels 0:  3\n"
     ]
    }
   ],
   "source": [
    "word_index = reuters.get_word_index()\n",
    "reverse_word_index = dict([(value,key) for(key,value) in word_index.items()])\n",
    "decoder_newswire = ' '.join([reverse_word_index.get(i-3,'?') for i in train_data[0]])\n",
    "print('Decoder newswire: ', decoder_newswire)\n",
    "print('Train_labels 0: ', train_labels[0])"
   ]
  },
  {
   "cell_type": "code",
   "execution_count": 7,
   "metadata": {},
   "outputs": [
    {
     "name": "stdout",
     "output_type": "stream",
     "text": [
      "46 classes\n"
     ]
    }
   ],
   "source": [
    "num_classes = np.max(train_labels) + 1\n",
    "print(num_classes, 'classes')"
   ]
  },
  {
   "cell_type": "code",
   "execution_count": 8,
   "metadata": {},
   "outputs": [
    {
     "name": "stdout",
     "output_type": "stream",
     "text": [
      "Train_data shape:  (8982, 10000)\n",
      "Test_data shape:  (2246, 10000)\n"
     ]
    }
   ],
   "source": [
    "from keras.preprocessing.text import Tokenizer\n",
    "\n",
    "tokenizer = Tokenizer(num_words=10000)\n",
    "train_data=tokenizer.sequences_to_matrix(train_data, mode='binary')\n",
    "test_data=tokenizer.sequences_to_matrix(test_data, mode='binary')\n",
    "print('Train_data shape: ', train_data.shape)\n",
    "print('Test_data shape: ', test_data.shape)"
   ]
  },
  {
   "cell_type": "code",
   "execution_count": 9,
   "metadata": {},
   "outputs": [
    {
     "name": "stdout",
     "output_type": "stream",
     "text": [
      "One hot train labels (8982, 46)\n",
      "One hot test labels (2246, 46)\n"
     ]
    }
   ],
   "source": [
    "from keras.utils.np_utils import to_categorical\n",
    "\n",
    "one_hot_train_labels = to_categorical(train_labels, num_classes)\n",
    "one_hot_test_labels = to_categorical(test_labels, num_classes)\n",
    "print('One hot train labels', one_hot_train_labels.shape)\n",
    "print('One hot test labels', one_hot_test_labels.shape)"
   ]
  },
  {
   "cell_type": "code",
   "execution_count": 10,
   "metadata": {},
   "outputs": [
    {
     "name": "stdout",
     "output_type": "stream",
     "text": [
      "_________________________________________________________________\n",
      "Layer (type)                 Output Shape              Param #   \n",
      "=================================================================\n",
      "dense_1 (Dense)              (None, 64)                640064    \n",
      "_________________________________________________________________\n",
      "dense_2 (Dense)              (None, 64)                4160      \n",
      "_________________________________________________________________\n",
      "dense_3 (Dense)              (None, 46)                2990      \n",
      "=================================================================\n",
      "Total params: 647,214\n",
      "Trainable params: 647,214\n",
      "Non-trainable params: 0\n",
      "_________________________________________________________________\n"
     ]
    }
   ],
   "source": [
    "from keras import models, regularizers, layers\n",
    "\n",
    "model = models.Sequential()\n",
    "model.add(layers.Dense(64, activation='relu', input_shape=(10000,)))\n",
    "model.add(layers.Dense(64, activation='relu'))\n",
    "model.add(layers.Dense(46, activation='softmax'))\n",
    "\n",
    "model.summary()"
   ]
  },
  {
   "cell_type": "code",
   "execution_count": 11,
   "metadata": {},
   "outputs": [],
   "source": [
    "model.compile(optimizer='rmsprop', \n",
    "              loss='categorical_crossentropy',\n",
    "              metrics=['accuracy'])"
   ]
  },
  {
   "cell_type": "code",
   "execution_count": 12,
   "metadata": {},
   "outputs": [
    {
     "name": "stdout",
     "output_type": "stream",
     "text": [
      "Train on 8083 samples, validate on 899 samples\n",
      "Epoch 1/40\n",
      "8083/8083 [==============================] - 3s 322us/step - loss: 2.5390 - acc: 0.4842 - val_loss: 1.8126 - val_acc: 0.6107\n",
      "Epoch 2/40\n",
      "8083/8083 [==============================] - 2s 244us/step - loss: 1.4388 - acc: 0.6879 - val_loss: 1.4359 - val_acc: 0.6841\n",
      "Epoch 3/40\n",
      "8083/8083 [==============================] - 2s 248us/step - loss: 1.0857 - acc: 0.7669 - val_loss: 1.2752 - val_acc: 0.7186\n",
      "Epoch 4/40\n",
      "8083/8083 [==============================] - 2s 264us/step - loss: 0.8621 - acc: 0.8170 - val_loss: 1.1681 - val_acc: 0.7486\n",
      "Epoch 5/40\n",
      "8083/8083 [==============================] - 2s 236us/step - loss: 0.6900 - acc: 0.8546 - val_loss: 1.0987 - val_acc: 0.7531\n",
      "Epoch 6/40\n",
      "8083/8083 [==============================] - 2s 249us/step - loss: 0.5571 - acc: 0.8831 - val_loss: 1.0395 - val_acc: 0.7820\n",
      "Epoch 7/40\n",
      "8083/8083 [==============================] - 2s 250us/step - loss: 0.4469 - acc: 0.9072 - val_loss: 1.0036 - val_acc: 0.7887\n",
      "Epoch 8/40\n",
      "8083/8083 [==============================] - 2s 246us/step - loss: 0.3584 - acc: 0.9228 - val_loss: 1.0118 - val_acc: 0.7831\n",
      "Epoch 9/40\n",
      "8083/8083 [==============================] - 2s 240us/step - loss: 0.2952 - acc: 0.9349 - val_loss: 0.9959 - val_acc: 0.7909\n",
      "Epoch 10/40\n",
      "8083/8083 [==============================] - 2s 240us/step - loss: 0.2483 - acc: 0.9425 - val_loss: 1.0245 - val_acc: 0.7920\n",
      "Epoch 11/40\n",
      "8083/8083 [==============================] - 2s 242us/step - loss: 0.2133 - acc: 0.9485 - val_loss: 1.0078 - val_acc: 0.8020\n",
      "Epoch 12/40\n",
      "8083/8083 [==============================] - 2s 234us/step - loss: 0.1803 - acc: 0.9520 - val_loss: 1.0536 - val_acc: 0.7831\n",
      "Epoch 13/40\n",
      "8083/8083 [==============================] - 2s 236us/step - loss: 0.1671 - acc: 0.9532 - val_loss: 1.0304 - val_acc: 0.7898\n",
      "Epoch 14/40\n",
      "8083/8083 [==============================] - 2s 242us/step - loss: 0.1476 - acc: 0.9550 - val_loss: 1.0966 - val_acc: 0.7898\n",
      "Epoch 15/40\n",
      "8083/8083 [==============================] - 2s 242us/step - loss: 0.1352 - acc: 0.9583 - val_loss: 1.0954 - val_acc: 0.7875\n",
      "Epoch 16/40\n",
      "8083/8083 [==============================] - 2s 235us/step - loss: 0.1308 - acc: 0.9562 - val_loss: 1.1426 - val_acc: 0.7786\n",
      "Epoch 17/40\n",
      "8083/8083 [==============================] - 2s 244us/step - loss: 0.1227 - acc: 0.9574 - val_loss: 1.1381 - val_acc: 0.7909\n",
      "Epoch 18/40\n",
      "8083/8083 [==============================] - 2s 238us/step - loss: 0.1154 - acc: 0.9589 - val_loss: 1.1927 - val_acc: 0.7864\n",
      "Epoch 19/40\n",
      "8083/8083 [==============================] - 2s 246us/step - loss: 0.1098 - acc: 0.9586 - val_loss: 1.2195 - val_acc: 0.7820\n",
      "Epoch 20/40\n",
      "8083/8083 [==============================] - 2s 238us/step - loss: 0.1062 - acc: 0.9587 - val_loss: 1.2234 - val_acc: 0.7709\n",
      "Epoch 21/40\n",
      "8083/8083 [==============================] - 2s 235us/step - loss: 0.1069 - acc: 0.9603 - val_loss: 1.2755 - val_acc: 0.7842\n",
      "Epoch 22/40\n",
      "8083/8083 [==============================] - 2s 234us/step - loss: 0.0976 - acc: 0.9605 - val_loss: 1.2377 - val_acc: 0.7842\n",
      "Epoch 23/40\n",
      "8083/8083 [==============================] - 2s 234us/step - loss: 0.1007 - acc: 0.9589 - val_loss: 1.2962 - val_acc: 0.7753\n",
      "Epoch 24/40\n",
      "8083/8083 [==============================] - 2s 233us/step - loss: 0.0963 - acc: 0.9595 - val_loss: 1.2789 - val_acc: 0.7764\n",
      "Epoch 25/40\n",
      "8083/8083 [==============================] - 2s 234us/step - loss: 0.1001 - acc: 0.9581 - val_loss: 1.2921 - val_acc: 0.7898\n",
      "Epoch 26/40\n",
      "8083/8083 [==============================] - 2s 236us/step - loss: 0.0946 - acc: 0.9590 - val_loss: 1.3237 - val_acc: 0.7786\n",
      "Epoch 27/40\n",
      "8083/8083 [==============================] - 2s 236us/step - loss: 0.0924 - acc: 0.9593 - val_loss: 1.3683 - val_acc: 0.7786\n",
      "Epoch 28/40\n",
      "8083/8083 [==============================] - 2s 234us/step - loss: 0.0912 - acc: 0.9593 - val_loss: 1.3811 - val_acc: 0.7697\n",
      "Epoch 29/40\n",
      "8083/8083 [==============================] - 2s 246us/step - loss: 0.0905 - acc: 0.9612 - val_loss: 1.4332 - val_acc: 0.7686\n",
      "Epoch 30/40\n",
      "8083/8083 [==============================] - 2s 235us/step - loss: 0.0888 - acc: 0.9599 - val_loss: 1.4290 - val_acc: 0.7720\n",
      "Epoch 31/40\n",
      "8083/8083 [==============================] - 2s 248us/step - loss: 0.0902 - acc: 0.9578 - val_loss: 1.3691 - val_acc: 0.7764\n",
      "Epoch 32/40\n",
      "8083/8083 [==============================] - 2s 243us/step - loss: 0.0867 - acc: 0.9594 - val_loss: 1.4025 - val_acc: 0.7631\n",
      "Epoch 33/40\n",
      "8083/8083 [==============================] - 2s 238us/step - loss: 0.0894 - acc: 0.9579 - val_loss: 1.3933 - val_acc: 0.7809\n",
      "Epoch 34/40\n",
      "8083/8083 [==============================] - 2s 248us/step - loss: 0.0869 - acc: 0.9600 - val_loss: 1.5454 - val_acc: 0.7620\n",
      "Epoch 35/40\n",
      "8083/8083 [==============================] - 2s 242us/step - loss: 0.0848 - acc: 0.9607 - val_loss: 1.4884 - val_acc: 0.7742\n",
      "Epoch 36/40\n",
      "8083/8083 [==============================] - 2s 238us/step - loss: 0.0892 - acc: 0.9586 - val_loss: 1.4707 - val_acc: 0.7764\n",
      "Epoch 37/40\n",
      "8083/8083 [==============================] - 2s 234us/step - loss: 0.0837 - acc: 0.9603 - val_loss: 1.4637 - val_acc: 0.7731\n",
      "Epoch 38/40\n",
      "8083/8083 [==============================] - 2s 236us/step - loss: 0.0823 - acc: 0.9604 - val_loss: 1.4884 - val_acc: 0.7742\n",
      "Epoch 39/40\n",
      "8083/8083 [==============================] - 2s 240us/step - loss: 0.0824 - acc: 0.9586 - val_loss: 1.5324 - val_acc: 0.7742\n",
      "Epoch 40/40\n",
      "8083/8083 [==============================] - 2s 238us/step - loss: 0.0846 - acc: 0.9594 - val_loss: 1.5381 - val_acc: 0.7697\n"
     ]
    }
   ],
   "source": [
    "history = model.fit(train_data, one_hot_train_labels, \n",
    "                    batch_size=512,\n",
    "                    epochs=40,\n",
    "                    verbose=1,\n",
    "                    validation_split=0.1)"
   ]
  },
  {
   "cell_type": "code",
   "execution_count": 16,
   "metadata": {},
   "outputs": [
    {
     "data": {
      "text/plain": [
       "<matplotlib.legend.Legend at 0x1bc35e40860>"
      ]
     },
     "execution_count": 16,
     "metadata": {},
     "output_type": "execute_result"
    },
    {
     "data": {
      "image/png": "[encoded data removed]",
      "text/plain": [
       "<Figure size 432x288 with 1 Axes>"
      ]
     },
     "metadata": {
      "needs_background": "light"
     },
     "output_type": "display_data"
    }
   ],
   "source": [
    "import matplotlib.pyplot as plt\n",
    "\n",
    "loss = history.history['loss']\n",
    "val_loss = history.history['val_loss']\n",
    "\n",
    "epochs = range(1, len(loss) + 1)\n",
    "\n",
    "plt.plot(epochs, loss, 'bo', label = 'Training Loss')\n",
    "plt.plot(epochs, val_loss, 'b', label = 'Validation Loss')\n",
    "plt.title('Training and Validation Loss')\n",
    "plt.xlabel('Epochs')\n",
    "plt.ylabel('Loss')\n",
    "plt.legend()"
   ]
  },
  {
   "cell_type": "code",
   "execution_count": 14,
   "metadata": {},
   "outputs": [
    {
     "data": {
      "text/plain": [
       "<matplotlib.legend.Legend at 0x1bc35dc37b8>"
      ]
     },
     "execution_count": 14,
     "metadata": {},
     "output_type": "execute_result"
    },
    {
     "data": {
      "image/png": "[encoded data removed]",
      "text/plain": [
       "<Figure size 432x288 with 1 Axes>"
      ]
     },
     "metadata": {
      "needs_background": "light"
     },
     "output_type": "display_data"
    }
   ],
   "source": [
    "acc = history.history['acc']\n",
    "val_acc = history.history['val_acc']\n",
    "\n",
    "plt.plot(epochs, acc, 'bo', label = 'Training Acc')\n",
    "plt.plot(epochs, val_acc, 'b', label = 'Validation Acc')\n",
    "plt.title('Training and Validation Accuracy')\n",
    "plt.xlabel('Epochs')\n",
    "plt.ylabel('Loss')\n",
    "plt.legend()"
   ]
  },
  {
   "cell_type": "code",
   "execution_count": 15,
   "metadata": {},
   "outputs": [
    {
     "name": "stdout",
     "output_type": "stream",
     "text": [
      "2246/2246 [==============================] - 0s 216us/step\n",
      "Test accuracy 0.7738201256745221\n"
     ]
    }
   ],
   "source": [
    "score = model.evaluate(test_data, one_hot_test_labels, batch_size=512, verbose=1)\n",
    "print('Test accuracy', score[1])"
   ]
  },
  {
   "cell_type": "code",
   "execution_count": null,
   "metadata": {},
   "outputs": [],
   "source": []
  }
 ],
 "metadata": {
  "kernelspec": {
   "display_name": "Python 3",
   "language": "python",
   "name": "python3"
  },
  "language_info": {
   "codemirror_mode": {
    "name": "ipython",
    "version": 3
   },
   "file_extension": ".py",
   "mimetype": "text/x-python",
   "name": "python",
   "nbconvert_exporter": "python",
   "pygments_lexer": "ipython3",
   "version": "3.6.5"
  }
 },
 "nbformat": 4,
 "nbformat_minor": 2
}
