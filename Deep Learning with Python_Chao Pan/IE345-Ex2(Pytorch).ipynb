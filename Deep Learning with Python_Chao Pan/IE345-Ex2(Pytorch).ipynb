{
 "cells": [
  {
   "cell_type": "markdown",
   "metadata": {},
   "source": [
    "## <h1><center>IE 345 - K “Introduction to Deep Learning: Fundamentals Concepts” </center></h1>\n",
    "### Prof. Yuzo\n",
    "#### Resolution of the \"Hello World\" of Deep Learning with the MNIST dataset.\n",
    "##### pg. 80 - 89"
   ]
  },
  {
   "cell_type": "code",
   "execution_count": 10,
   "metadata": {},
   "outputs": [],
   "source": [
    "#Libraries\n",
    "\n",
    "import numpy as np\n",
    "import matplotlib.pyplot as plt\n",
    "\n",
    "import torch\n",
    "import torch.nn as nn\n",
    "import torchvision.datasets as dsets\n",
    "import torchvision.transforms as transforms\n",
    "from torch.autograd import Variable"
   ]
  },
  {
   "cell_type": "code",
   "execution_count": 43,
   "metadata": {},
   "outputs": [],
   "source": [
    "# Hyperparameters\n",
    "\n",
    "input_size = 784\n",
    "hidden_size =500\n",
    "num_classes =10\n",
    "num_epochs = 10\n",
    "batch_size = 100\n",
    "learning_rate = 0.001"
   ]
  },
  {
   "cell_type": "code",
   "execution_count": 44,
   "metadata": {},
   "outputs": [],
   "source": [
    "#MNIST dataset for training and test set\n",
    "\n",
    "train_dataset = dsets.MNIST(root = './data', \n",
    "                            train = True,\n",
    "                            transform = transforms.ToTensor(),\n",
    "                            download = True)\n",
    "\n",
    "test_dataset = dsets.MNIST(root = './data',\n",
    "                        train = False,\n",
    "                       transform = transforms.ToTensor())"
   ]
  },
  {
   "cell_type": "code",
   "execution_count": 45,
   "metadata": {},
   "outputs": [
    {
     "data": {
      "image/png": "[encoded data removed]",
      "text/plain": [
       "<Figure size 432x288 with 1 Axes>"
      ]
     },
     "metadata": {
      "needs_background": "light"
     },
     "output_type": "display_data"
    }
   ],
   "source": [
    "# Using Matplotlib \n",
    "\n",
    "sample_image = torch.Tensor.numpy(train_dataset[0][0][0])\n",
    "plt.imshow(np.reshape(sample_image, [28, 28]), cmap = 'gray')\n",
    "plt.show()"
   ]
  },
  {
   "cell_type": "code",
   "execution_count": 46,
   "metadata": {},
   "outputs": [],
   "source": [
    "#Load MNIST using data loader\n",
    "train_loader = torch.utils.data.DataLoader(dataset = train_dataset,\n",
    "                                           batch_size = batch_size,\n",
    "                                           shuffle = True)\n",
    "\n",
    "test_loader = torch.utils.data.DataLoader(dataset = test_dataset,\n",
    "                                           batch_size = batch_size,\n",
    "                                           shuffle = False)"
   ]
  },
  {
   "cell_type": "code",
   "execution_count": 47,
   "metadata": {},
   "outputs": [],
   "source": [
    "# Define Artificial neural network \n",
    "\n",
    "class Net(nn.Module):\n",
    "    def __init__(self, input_size, hidden_size, num_classes):\n",
    "        super(Net, self).__init__()\n",
    "        self.fc1 = nn.Linear(input_size, hidden_size)\n",
    "        self.relu = nn.ReLU()\n",
    "        self.fc2 = nn.Linear(hidden_size, num_classes)\n",
    "        \n",
    "    def forward(self, x):\n",
    "        out = self.fc1(x)\n",
    "        out = self.relu(out)\n",
    "        out = self.fc2(out)\n",
    "        return out"
   ]
  },
  {
   "cell_type": "code",
   "execution_count": 48,
   "metadata": {},
   "outputs": [],
   "source": [
    "# Initialize Neural Network Class\n",
    "net = Net(input_size, hidden_size, num_classes)\n",
    "\n",
    "# Create loss and optimizer\n",
    "criterion = nn.CrossEntropyLoss()\n",
    "optimizer = torch.optim.Adam(net.parameters(), lr = learning_rate)"
   ]
  },
  {
   "cell_type": "code",
   "execution_count": 49,
   "metadata": {},
   "outputs": [
    {
     "name": "stdout",
     "output_type": "stream",
     "text": [
      "Epoch [1/10], Step[100/600], Loss: 0.3720\n",
      "Epoch [1/10], Step[200/600], Loss: 0.2920\n",
      "Epoch [1/10], Step[300/600], Loss: 0.1762\n",
      "Epoch [1/10], Step[400/600], Loss: 0.1778\n",
      "Epoch [1/10], Step[500/600], Loss: 0.1467\n",
      "Epoch [1/10], Step[600/600], Loss: 0.1984\n",
      "Epoch [2/10], Step[100/600], Loss: 0.1141\n",
      "Epoch [2/10], Step[200/600], Loss: 0.0643\n",
      "Epoch [2/10], Step[300/600], Loss: 0.0682\n",
      "Epoch [2/10], Step[400/600], Loss: 0.0959\n",
      "Epoch [2/10], Step[500/600], Loss: 0.0902\n",
      "Epoch [2/10], Step[600/600], Loss: 0.0661\n",
      "Epoch [3/10], Step[100/600], Loss: 0.0400\n",
      "Epoch [3/10], Step[200/600], Loss: 0.0469\n",
      "Epoch [3/10], Step[300/600], Loss: 0.0294\n",
      "Epoch [3/10], Step[400/600], Loss: 0.1347\n",
      "Epoch [3/10], Step[500/600], Loss: 0.1071\n",
      "Epoch [3/10], Step[600/600], Loss: 0.2350\n",
      "Epoch [4/10], Step[100/600], Loss: 0.0913\n",
      "Epoch [4/10], Step[200/600], Loss: 0.1955\n",
      "Epoch [4/10], Step[300/600], Loss: 0.0455\n",
      "Epoch [4/10], Step[400/600], Loss: 0.0493\n",
      "Epoch [4/10], Step[500/600], Loss: 0.0099\n",
      "Epoch [4/10], Step[600/600], Loss: 0.0121\n",
      "Epoch [5/10], Step[100/600], Loss: 0.0528\n",
      "Epoch [5/10], Step[200/600], Loss: 0.0564\n",
      "Epoch [5/10], Step[300/600], Loss: 0.0421\n",
      "Epoch [5/10], Step[400/600], Loss: 0.0155\n",
      "Epoch [5/10], Step[500/600], Loss: 0.0347\n",
      "Epoch [5/10], Step[600/600], Loss: 0.0467\n",
      "Epoch [6/10], Step[100/600], Loss: 0.0174\n",
      "Epoch [6/10], Step[200/600], Loss: 0.0337\n",
      "Epoch [6/10], Step[300/600], Loss: 0.0241\n",
      "Epoch [6/10], Step[400/600], Loss: 0.0088\n",
      "Epoch [6/10], Step[500/600], Loss: 0.0232\n",
      "Epoch [6/10], Step[600/600], Loss: 0.0050\n",
      "Epoch [7/10], Step[100/600], Loss: 0.0090\n",
      "Epoch [7/10], Step[200/600], Loss: 0.0025\n",
      "Epoch [7/10], Step[300/600], Loss: 0.0337\n",
      "Epoch [7/10], Step[400/600], Loss: 0.0160\n",
      "Epoch [7/10], Step[500/600], Loss: 0.0120\n",
      "Epoch [7/10], Step[600/600], Loss: 0.0144\n",
      "Epoch [8/10], Step[100/600], Loss: 0.0121\n",
      "Epoch [8/10], Step[200/600], Loss: 0.0227\n",
      "Epoch [8/10], Step[300/600], Loss: 0.0077\n",
      "Epoch [8/10], Step[400/600], Loss: 0.0047\n",
      "Epoch [8/10], Step[500/600], Loss: 0.0256\n",
      "Epoch [8/10], Step[600/600], Loss: 0.0053\n",
      "Epoch [9/10], Step[100/600], Loss: 0.0197\n",
      "Epoch [9/10], Step[200/600], Loss: 0.0072\n",
      "Epoch [9/10], Step[300/600], Loss: 0.0357\n",
      "Epoch [9/10], Step[400/600], Loss: 0.0571\n",
      "Epoch [9/10], Step[500/600], Loss: 0.0046\n",
      "Epoch [9/10], Step[600/600], Loss: 0.0153\n",
      "Epoch [10/10], Step[100/600], Loss: 0.0276\n",
      "Epoch [10/10], Step[200/600], Loss: 0.0201\n",
      "Epoch [10/10], Step[300/600], Loss: 0.0016\n",
      "Epoch [10/10], Step[400/600], Loss: 0.0039\n",
      "Epoch [10/10], Step[500/600], Loss: 0.0060\n",
      "Epoch [10/10], Step[600/600], Loss: 0.0149\n"
     ]
    }
   ],
   "source": [
    "# Train the model for num_epochs\n",
    "\n",
    "epoch = []\n",
    "loss = []\n",
    "for epoch in range(num_epochs):\n",
    "    for i, (images, labels) in enumerate(train_loader):\n",
    "        images = Variable(images.view(-1, 28*28))\n",
    "        labels = Variable(labels)\n",
    "        optimizer.zero_grad() # zero the gradient buffer\n",
    "        outputs = net(images)\n",
    "        loss = criterion(outputs, labels)\n",
    "        loss.backward()\n",
    "        optimizer.step()\n",
    "        \n",
    "        if(i+1) % 100 == 0:\n",
    "            print('Epoch [%d/%d], Step[%d/%d], Loss: %.4f' \n",
    "                  %(epoch+1, num_epochs, i+1,\n",
    "                    len(train_dataset)//batch_size, loss.item()))"
   ]
  },
  {
   "cell_type": "code",
   "execution_count": 50,
   "metadata": {},
   "outputs": [
    {
     "name": "stdout",
     "output_type": "stream",
     "text": [
      "Accuracy of the network on the 10000 test images: 98 %\n"
     ]
    }
   ],
   "source": [
    "#Test the model\n",
    "\n",
    "correct = 0\n",
    "total = 0\n",
    "for images, labels in test_loader:\n",
    "    images = Variable(images.view(-1, 28*28))\n",
    "    outputs = net(images)\n",
    "    _, predicted = torch.max(outputs.data, 1)\n",
    "    total += labels.size(0)\n",
    "    correct += (predicted.cpu() == labels).sum()\n",
    "    \n",
    "print('Accuracy of the network on the 10000 test images: %d %%' % (100 * correct / total))    "
   ]
  },
  {
   "cell_type": "markdown",
   "metadata": {},
   "source": [
    "## NOTE: Installation of Pytorch\n",
    "\n",
    "If you follow our step by step tutorial of installation, follow the next code for install Pytorch:\n",
    "1. Open the Anaconda Prompt and activate the environment which you created with the code:\n",
    "\n",
    "   - *activate tensorflow*\n",
    "\n",
    "2. After activating your environment, type in the environment:\n",
    "\n",
    "   - *conda install pytorch-cpu torchvision-cpu -c pytorch*\n",
    "\n",
    "Instllation, tutorials, and examples with Pytorch visit:\n",
    "https://pytorch.org/get-started/locally/"
   ]
  },
  {
   "cell_type": "markdown",
   "metadata": {},
   "source": [
    "*Pablo David Minango Negrete*\n",
    "\n",
    "$pablodavid218@gmail.com$"
   ]
  }
 ],
 "metadata": {
  "kernelspec": {
   "display_name": "Python 3",
   "language": "python",
   "name": "python3"
  },
  "language_info": {
   "codemirror_mode": {
    "name": "ipython",
    "version": 3
   },
   "file_extension": ".py",
   "mimetype": "text/x-python",
   "name": "python",
   "nbconvert_exporter": "python",
   "pygments_lexer": "ipython3",
   "version": "3.6.8"
  }
 },
 "nbformat": 4,
 "nbformat_minor": 2
}
