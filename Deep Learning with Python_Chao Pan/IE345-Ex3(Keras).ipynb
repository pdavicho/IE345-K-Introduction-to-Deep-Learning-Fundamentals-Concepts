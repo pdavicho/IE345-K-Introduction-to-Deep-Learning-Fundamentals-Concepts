{
 "cells": [
  {
   "cell_type": "markdown",
   "metadata": {},
   "source": [
    "## <h1><center>IE 345 - K “Introduction to Deep Learning: Fundamentals Concepts” </center></h1>\n",
    "### Prof. Yuzo\n",
    "#### Build a Convolutional Neural Network.\n",
    "##### pg. 92 - 100"
   ]
  },
  {
   "cell_type": "code",
   "execution_count": 1,
   "metadata": {},
   "outputs": [
    {
     "name": "stderr",
     "output_type": "stream",
     "text": [
      "Using TensorFlow backend.\n"
     ]
    }
   ],
   "source": [
    "import numpy as np\n",
    "import matplotlib.pyplot as plt\n",
    "\n",
    "import keras\n",
    "from keras.datasets import cifar10\n",
    "from keras.preprocessing.image import ImageDataGenerator\n",
    "from keras.models import Sequential\n",
    "from keras.layers import Dense, Dropout, Activation, Flatten\n",
    "from keras.layers import Conv2D, MaxPooling2D\n",
    "import os"
   ]
  },
  {
   "cell_type": "code",
   "execution_count": 2,
   "metadata": {},
   "outputs": [],
   "source": [
    "# Set Hyperparameters\n",
    "\n",
    "batch_size = 32\n",
    "num_classes = 10\n",
    "epochs = 25\n",
    "data_augmentation = False\n",
    "num_predictions = 20\n",
    "save_dir = os.path.join(os.getcwd(), 'saved_models')\n",
    "model_name = 'keras_cifar10_trained_model.h5'"
   ]
  },
  {
   "cell_type": "code",
   "execution_count": 3,
   "metadata": {},
   "outputs": [
    {
     "name": "stdout",
     "output_type": "stream",
     "text": [
      "x_train.shape: (50000, 32, 32, 3)\n",
      "50000 Train samples\n",
      "10000 Test samples\n"
     ]
    }
   ],
   "source": [
    "#Load Data and split into train and test sets\n",
    "\n",
    "(x_train, y_train), (x_test, y_test) = cifar10.load_data()\n",
    "print('x_train.shape:', x_train.shape)\n",
    "print(x_train.shape[0], 'Train samples')\n",
    "print(x_test.shape[0], 'Test samples')"
   ]
  },
  {
   "cell_type": "code",
   "execution_count": 4,
   "metadata": {},
   "outputs": [
    {
     "data": {
      "image/png": "[encoded data removed]",
      "text/plain": [
       "<Figure size 432x288 with 1 Axes>"
      ]
     },
     "metadata": {
      "needs_background": "light"
     },
     "output_type": "display_data"
    }
   ],
   "source": [
    "# Display image\n",
    "sample_image = x_train[7]\n",
    "plt.imshow(sample_image)\n",
    "plt.show()"
   ]
  },
  {
   "cell_type": "code",
   "execution_count": 5,
   "metadata": {},
   "outputs": [],
   "source": [
    "# Convert class vectors to binary class matrices\n",
    "\n",
    "y_train = keras.utils.to_categorical(y_train, num_classes)\n",
    "y_test = keras.utils.to_categorical(y_test, num_classes)"
   ]
  },
  {
   "cell_type": "code",
   "execution_count": 6,
   "metadata": {},
   "outputs": [
    {
     "name": "stdout",
     "output_type": "stream",
     "text": [
      "_________________________________________________________________\n",
      "Layer (type)                 Output Shape              Param #   \n",
      "=================================================================\n",
      "conv2d_1 (Conv2D)            (None, 32, 32, 32)        896       \n",
      "_________________________________________________________________\n",
      "activation_1 (Activation)    (None, 32, 32, 32)        0         \n",
      "_________________________________________________________________\n",
      "conv2d_2 (Conv2D)            (None, 30, 30, 32)        9248      \n",
      "_________________________________________________________________\n",
      "activation_2 (Activation)    (None, 30, 30, 32)        0         \n",
      "_________________________________________________________________\n",
      "max_pooling2d_1 (MaxPooling2 (None, 15, 15, 32)        0         \n",
      "_________________________________________________________________\n",
      "dropout_1 (Dropout)          (None, 15, 15, 32)        0         \n",
      "_________________________________________________________________\n",
      "conv2d_3 (Conv2D)            (None, 15, 15, 64)        18496     \n",
      "_________________________________________________________________\n",
      "activation_3 (Activation)    (None, 15, 15, 64)        0         \n",
      "_________________________________________________________________\n",
      "conv2d_4 (Conv2D)            (None, 13, 13, 64)        36928     \n",
      "_________________________________________________________________\n",
      "activation_4 (Activation)    (None, 13, 13, 64)        0         \n",
      "_________________________________________________________________\n",
      "max_pooling2d_2 (MaxPooling2 (None, 6, 6, 64)          0         \n",
      "_________________________________________________________________\n",
      "dropout_2 (Dropout)          (None, 6, 6, 64)          0         \n",
      "_________________________________________________________________\n",
      "flatten_1 (Flatten)          (None, 2304)              0         \n",
      "_________________________________________________________________\n",
      "dense_1 (Dense)              (None, 512)               1180160   \n",
      "_________________________________________________________________\n",
      "activation_5 (Activation)    (None, 512)               0         \n",
      "_________________________________________________________________\n",
      "dropout_3 (Dropout)          (None, 512)               0         \n",
      "_________________________________________________________________\n",
      "dense_2 (Dense)              (None, 10)                5130      \n",
      "_________________________________________________________________\n",
      "activation_6 (Activation)    (None, 10)                0         \n",
      "=================================================================\n",
      "Total params: 1,250,858\n",
      "Trainable params: 1,250,858\n",
      "Non-trainable params: 0\n",
      "_________________________________________________________________\n"
     ]
    }
   ],
   "source": [
    "# Describe model using Keras sequential API\n",
    "model = Sequential()\n",
    "model.add(Conv2D(32, (3,3), padding='same', input_shape=x_train.shape[1:]))\n",
    "model.add(Activation('relu'))\n",
    "model.add(Conv2D(32, (3, 3)))\n",
    "model.add(Activation('relu'))\n",
    "model.add(MaxPooling2D(pool_size=(2,2)))\n",
    "model.add(Dropout(0.25))\n",
    "\n",
    "model.add(Conv2D(64, (3,3), padding='same'))\n",
    "model.add(Activation('relu'))\n",
    "model.add(Conv2D(64, (3,3)))\n",
    "model.add(Activation('relu'))\n",
    "model.add(MaxPooling2D(pool_size=(2,2)))\n",
    "model.add(Dropout(0.25))\n",
    "\n",
    "model.add(Flatten())\n",
    "model.add(Dense(512))\n",
    "model.add(Activation('relu'))\n",
    "model.add(Dropout(0.5))\n",
    "model.add(Dense(num_classes))\n",
    "model.add(Activation('softmax'))\n",
    "\n",
    "model.summary()"
   ]
  },
  {
   "cell_type": "code",
   "execution_count": 7,
   "metadata": {},
   "outputs": [],
   "source": [
    "# Initiate RMSprop optimizer\n",
    "opt = keras.optimizers.rmsprop(lr=0.0001, decay=1e-6)\n",
    "\n",
    "#Compile the model\n",
    "model.compile(loss='categorical_crossentropy', \n",
    "              optimizer=opt,\n",
    "             metrics=['accuracy'])"
   ]
  },
  {
   "cell_type": "code",
   "execution_count": 8,
   "metadata": {},
   "outputs": [],
   "source": [
    "# Normalize image date\n",
    "x_train = x_train.astype('float32')\n",
    "x_test = x_test.astype('float32')\n",
    "x_train /= 255\n",
    "x_test /= 255"
   ]
  },
  {
   "cell_type": "code",
   "execution_count": null,
   "metadata": {},
   "outputs": [
    {
     "name": "stdout",
     "output_type": "stream",
     "text": [
      "Not using data augmentation.\n",
      "Train on 50000 samples, validate on 10000 samples\n",
      "Epoch 1/25\n",
      "50000/50000 [==============================] - 185s 4ms/step - loss: 1.8621 - acc: 0.3201 - val_loss: 1.5802 - val_acc: 0.4297\n",
      "Epoch 2/25\n",
      "50000/50000 [==============================] - 185s 4ms/step - loss: 1.5406 - acc: 0.4437 - val_loss: 1.4813 - val_acc: 0.4577\n",
      "Epoch 3/25\n",
      "50000/50000 [==============================] - 199s 4ms/step - loss: 1.3878 - acc: 0.4998 - val_loss: 1.2643 - val_acc: 0.5447\n",
      "Epoch 4/25\n",
      "50000/50000 [==============================] - 198s 4ms/step - loss: 1.2840 - acc: 0.5431 - val_loss: 1.2150 - val_acc: 0.5639\n",
      "Epoch 5/25\n",
      "50000/50000 [==============================] - 190s 4ms/step - loss: 1.2044 - acc: 0.5731 - val_loss: 1.0948 - val_acc: 0.6166\n",
      "Epoch 6/25\n",
      "50000/50000 [==============================] - 187s 4ms/step - loss: 1.1348 - acc: 0.5986 - val_loss: 1.0522 - val_acc: 0.6263\n",
      "Epoch 7/25\n",
      "50000/50000 [==============================] - 191s 4ms/step - loss: 1.0736 - acc: 0.6224 - val_loss: 1.0455 - val_acc: 0.6288\n",
      "Epoch 8/25\n",
      "50000/50000 [==============================] - 243s 5ms/step - loss: 1.0233 - acc: 0.6417 - val_loss: 0.9530 - val_acc: 0.6637\n",
      "Epoch 9/25\n",
      "50000/50000 [==============================] - 279s 6ms/step - loss: 0.9836 - acc: 0.6543 - val_loss: 0.9042 - val_acc: 0.6842\n",
      "Epoch 10/25\n",
      "50000/50000 [==============================] - 275s 6ms/step - loss: 0.9479 - acc: 0.6681 - val_loss: 0.8832 - val_acc: 0.6891\n",
      "Epoch 11/25\n",
      "50000/50000 [==============================] - 278s 6ms/step - loss: 0.9144 - acc: 0.6809 - val_loss: 0.8574 - val_acc: 0.7029\n",
      "Epoch 12/25\n",
      "50000/50000 [==============================] - 278s 6ms/step - loss: 0.8916 - acc: 0.6907 - val_loss: 0.8531 - val_acc: 0.7044\n",
      "Epoch 13/25\n",
      "50000/50000 [==============================] - 275s 5ms/step - loss: 0.8684 - acc: 0.6976 - val_loss: 0.8412 - val_acc: 0.7124\n",
      "Epoch 14/25\n",
      "50000/50000 [==============================] - 286s 6ms/step - loss: 0.8475 - acc: 0.7064 - val_loss: 0.8582 - val_acc: 0.7023\n",
      "Epoch 15/25\n",
      "50000/50000 [==============================] - 274s 5ms/step - loss: 0.8297 - acc: 0.7124 - val_loss: 0.8136 - val_acc: 0.7247\n",
      "Epoch 16/25\n",
      "30272/50000 [=================>............] - ETA: 1:46 - loss: 0.8136 - acc: 0.7162"
     ]
    }
   ],
   "source": [
    "if not data_augmentation:\n",
    "    print('Not using data augmentation.')\n",
    "    model.fit(x_train, y_train,\n",
    "             batch_size=batch_size,\n",
    "             epochs=epochs,\n",
    "             validation_data=(x_test, y_test),\n",
    "             shuffle=True)\n",
    "else:\n",
    "    print('Using real-time data augmentation.')\n",
    "    datagen = ImageDataGenerator(featurewise_center=False,\n",
    "                                samplewise_center=False,\n",
    "                                featurewise_std_normalization=False,\n",
    "                                samplewise_std_normalization=False,\n",
    "                                zca_whitening=False,\n",
    "                                rotation_range=0,\n",
    "                                width_shift_range=0.1,\n",
    "                                height_shift_range=0.1,\n",
    "                                horizontal_flip=True,\n",
    "                                vertical_flip=False)\n",
    "    \n",
    "    datagen.fit(x_train)\n",
    "    model.fit_generator(datagen.flow(x_train, y_train,\n",
    "                                    batch_size=batch_size),\n",
    "                       epochs=epochs,\n",
    "                       validation_data=(x_test,y_test),\n",
    "                       workers=4,\n",
    "                       steps_per_epoch=5)"
   ]
  },
  {
   "cell_type": "code",
   "execution_count": null,
   "metadata": {},
   "outputs": [],
   "source": [
    "# Save model and weights for future use\n",
    "\n",
    "if not os.path.isdir(save_dir):\n",
    "    os.makedirs(save_dir)\n",
    "model_path = os.path.join(save_dir, model_name)\n",
    "model.save(model_path)\n",
    "print('Saved trained model at %s ' % model_path)"
   ]
  },
  {
   "cell_type": "code",
   "execution_count": null,
   "metadata": {},
   "outputs": [],
   "source": [
    "#Score trained model\n",
    "scores = model.evaluate(x_test, y_test, verbose=1)\n",
    "print('Test loss: ', scores[0])\n",
    "print('Test accuracy: ', scores[1])"
   ]
  },
  {
   "cell_type": "markdown",
   "metadata": {},
   "source": [
    "*Pablo David Minango Negrete*\n",
    "\n",
    "$pablodavid218@gmail.com$"
   ]
  }
 ],
 "metadata": {
  "kernelspec": {
   "display_name": "Python 3",
   "language": "python",
   "name": "python3"
  },
  "language_info": {
   "codemirror_mode": {
    "name": "ipython",
    "version": 3
   },
   "file_extension": ".py",
   "mimetype": "text/x-python",
   "name": "python",
   "nbconvert_exporter": "python",
   "pygments_lexer": "ipython3",
   "version": "3.6.5"
  }
 },
 "nbformat": 4,
 "nbformat_minor": 2
}
