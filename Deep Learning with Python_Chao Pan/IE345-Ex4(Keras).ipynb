{
 "cells": [
  {
   "cell_type": "markdown",
   "metadata": {},
   "source": [
    "## <h1><center>IE 345 - K “Introduction to Deep Learning: Fundamentals Concepts” </center></h1>\n",
    "### Prof. Yuzo\n",
    "#### Build a Recurrent Neural Network.\n",
    "##### pg. 105 - 110"
   ]
  },
  {
   "cell_type": "code",
   "execution_count": 1,
   "metadata": {},
   "outputs": [
    {
     "name": "stderr",
     "output_type": "stream",
     "text": [
      "Using TensorFlow backend.\n"
     ]
    }
   ],
   "source": [
    "import keras\n",
    "from keras.preprocessing import sequence\n",
    "from keras.models import Sequential\n",
    "from keras.layers import Dense, Embedding\n",
    "from keras.layers import LSTM\n",
    "from keras.datasets import imdb"
   ]
  },
  {
   "cell_type": "code",
   "execution_count": 2,
   "metadata": {},
   "outputs": [],
   "source": [
    "#Set Hyperparameters\n",
    "\n",
    "max_features = 20000\n",
    "maxlen = 80\n",
    "batch_size = 32"
   ]
  },
  {
   "cell_type": "code",
   "execution_count": 3,
   "metadata": {},
   "outputs": [
    {
     "name": "stdout",
     "output_type": "stream",
     "text": [
      "Loading data...\n",
      "25000 Train Sequences\n",
      "25000 Test Sequences\n"
     ]
    }
   ],
   "source": [
    "print('Loading data...')\n",
    "(x_train, y_train), (x_test, y_test) = imdb.load_data(num_words=max_features)\n",
    "print(len(x_train), 'Train Sequences')\n",
    "print(len(x_test), 'Test Sequences')"
   ]
  },
  {
   "cell_type": "code",
   "execution_count": 4,
   "metadata": {},
   "outputs": [
    {
     "name": "stdout",
     "output_type": "stream",
     "text": [
      "Pad sequences (samples % time)\n",
      "x_train shape:  (25000, 80)\n",
      "x_test shape:  (25000, 80)\n"
     ]
    }
   ],
   "source": [
    "print('Pad sequences (samples % time)')\n",
    "x_train = sequence.pad_sequences(x_train, maxlen=maxlen)\n",
    "x_test = sequence.pad_sequences(x_test, maxlen=maxlen)\n",
    "print('x_train shape: ', x_train.shape)\n",
    "print('x_test shape: ', x_test.shape)"
   ]
  },
  {
   "cell_type": "code",
   "execution_count": 5,
   "metadata": {},
   "outputs": [
    {
     "name": "stdout",
     "output_type": "stream",
     "text": [
      "_________________________________________________________________\n",
      "Layer (type)                 Output Shape              Param #   \n",
      "=================================================================\n",
      "embedding_1 (Embedding)      (None, None, 128)         2560000   \n",
      "_________________________________________________________________\n",
      "lstm_1 (LSTM)                (None, 128)               131584    \n",
      "_________________________________________________________________\n",
      "dense_1 (Dense)              (None, 1)                 129       \n",
      "=================================================================\n",
      "Total params: 2,691,713\n",
      "Trainable params: 2,691,713\n",
      "Non-trainable params: 0\n",
      "_________________________________________________________________\n"
     ]
    }
   ],
   "source": [
    "# Model definition\n",
    "\n",
    "model = Sequential()\n",
    "model.add(Embedding(max_features, 128))\n",
    "model.add(LSTM(128, dropout=0.2, recurrent_dropout=0.2))\n",
    "model.add(Dense(1, activation='sigmoid'))\n",
    "model.summary()"
   ]
  },
  {
   "cell_type": "code",
   "execution_count": 6,
   "metadata": {},
   "outputs": [],
   "source": [
    "# Compile model by setting learning procedure\n",
    "model.compile(loss='binary_crossentropy',\n",
    "             optimizer='adam',\n",
    "             metrics=['accuracy'])"
   ]
  },
  {
   "cell_type": "code",
   "execution_count": 7,
   "metadata": {},
   "outputs": [
    {
     "name": "stdout",
     "output_type": "stream",
     "text": [
      "Train on 25000 samples, validate on 25000 samples\n",
      "Epoch 1/15\n",
      "25000/25000 [==============================] - 82s 3ms/step - loss: 0.4636 - acc: 0.7806 - val_loss: 0.4086 - val_acc: 0.8179\n",
      "Epoch 2/15\n",
      "25000/25000 [==============================] - 86s 3ms/step - loss: 0.3018 - acc: 0.8760 - val_loss: 0.3676 - val_acc: 0.8354\n",
      "Epoch 3/15\n",
      "25000/25000 [==============================] - 82s 3ms/step - loss: 0.2172 - acc: 0.9143 - val_loss: 0.4295 - val_acc: 0.8214\n",
      "Epoch 4/15\n",
      "25000/25000 [==============================] - 81s 3ms/step - loss: 0.1541 - acc: 0.9422 - val_loss: 0.4725 - val_acc: 0.8299\n",
      "Epoch 5/15\n",
      "25000/25000 [==============================] - 80s 3ms/step - loss: 0.1146 - acc: 0.9575 - val_loss: 0.6211 - val_acc: 0.8211\n",
      "Epoch 6/15\n",
      "25000/25000 [==============================] - 80s 3ms/step - loss: 0.0801 - acc: 0.9722 - val_loss: 0.6621 - val_acc: 0.8234\n",
      "Epoch 7/15\n",
      "25000/25000 [==============================] - 79s 3ms/step - loss: 0.0538 - acc: 0.9830 - val_loss: 0.6762 - val_acc: 0.8197\n",
      "Epoch 8/15\n",
      "25000/25000 [==============================] - 81s 3ms/step - loss: 0.0418 - acc: 0.9857 - val_loss: 0.8217 - val_acc: 0.8178\n",
      "Epoch 9/15\n",
      "25000/25000 [==============================] - 82s 3ms/step - loss: 0.0296 - acc: 0.9907 - val_loss: 0.9500 - val_acc: 0.8160\n",
      "Epoch 10/15\n",
      "25000/25000 [==============================] - 80s 3ms/step - loss: 0.0293 - acc: 0.9903 - val_loss: 0.8880 - val_acc: 0.8160\n",
      "Epoch 11/15\n",
      "25000/25000 [==============================] - 84s 3ms/step - loss: 0.0194 - acc: 0.9940 - val_loss: 0.9950 - val_acc: 0.8189\n",
      "Epoch 12/15\n",
      "25000/25000 [==============================] - 81s 3ms/step - loss: 0.0113 - acc: 0.9965 - val_loss: 1.1629 - val_acc: 0.8104\n",
      "Epoch 13/15\n",
      "25000/25000 [==============================] - 84s 3ms/step - loss: 0.0118 - acc: 0.9960 - val_loss: 1.1714 - val_acc: 0.8109\n",
      "Epoch 14/15\n",
      "25000/25000 [==============================] - 80s 3ms/step - loss: 0.0169 - acc: 0.9942 - val_loss: 1.0800 - val_acc: 0.8142\n",
      "Epoch 15/15\n",
      "25000/25000 [==============================] - 82s 3ms/step - loss: 0.0077 - acc: 0.9976 - val_loss: 1.1794 - val_acc: 0.8134\n"
     ]
    },
    {
     "data": {
      "text/plain": [
       "<keras.callbacks.History at 0x27e8f8b19e8>"
      ]
     },
     "execution_count": 7,
     "metadata": {},
     "output_type": "execute_result"
    }
   ],
   "source": [
    "# Fit the model\n",
    "model.fit(x_train, y_train,\n",
    "         batch_size=batch_size,\n",
    "         epochs=15,\n",
    "         validation_data=(x_test, y_test))"
   ]
  },
  {
   "cell_type": "code",
   "execution_count": 8,
   "metadata": {},
   "outputs": [
    {
     "name": "stdout",
     "output_type": "stream",
     "text": [
      "25000/25000 [==============================] - 10s 395us/step\n",
      "Test score:  1.1794399218529463\n",
      "Test accuracy:  0.81344\n"
     ]
    }
   ],
   "source": [
    "score, acc = model.evaluate(x_test, y_test, \n",
    "                           batch_size=batch_size)\n",
    "print('Test score: ', score)\n",
    "print('Test accuracy: ', acc)"
   ]
  },
  {
   "cell_type": "markdown",
   "metadata": {},
   "source": [
    "*Pablo David Minango Negrete*\n",
    "\n",
    "$pablodavid218@gmail.com$"
   ]
  }
 ],
 "metadata": {
  "kernelspec": {
   "display_name": "Python 3",
   "language": "python",
   "name": "python3"
  },
  "language_info": {
   "codemirror_mode": {
    "name": "ipython",
    "version": 3
   },
   "file_extension": ".py",
   "mimetype": "text/x-python",
   "name": "python",
   "nbconvert_exporter": "python",
   "pygments_lexer": "ipython3",
   "version": "3.6.8"
  }
 },
 "nbformat": 4,
 "nbformat_minor": 2
}
