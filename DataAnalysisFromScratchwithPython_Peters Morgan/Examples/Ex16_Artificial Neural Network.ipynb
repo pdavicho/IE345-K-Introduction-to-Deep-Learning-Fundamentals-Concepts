{
 "cells": [
  {
   "cell_type": "markdown",
   "metadata": {},
   "source": [
    "## <h1><center>IE 345 - K “Introduction to Deep Learning: Fundamentals Concepts” </center></h1>\n",
    "### Prof. Yuzo\n",
    "### Artificial Neural Network\n",
    "##### pg. 127"
   ]
  },
  {
   "cell_type": "code",
   "execution_count": 5,
   "metadata": {},
   "outputs": [
    {
     "name": "stdout",
     "output_type": "stream",
     "text": [
      "x  [[0 0 1]\n",
      " [0 1 1]\n",
      " [1 0 1]\n",
      " [1 1 1]]\n",
      "y  [[0]\n",
      " [1]\n",
      " [1]\n",
      " [0]]\n"
     ]
    }
   ],
   "source": [
    "import numpy as np\n",
    "\n",
    "x = np.array([[0, 0, 1],[0, 1, 1],[1, 0, 1],[1, 1, 1]])\n",
    "print('x ', x)\n",
    "y = np.array([[0, 1, 1, 0]]).T\n",
    "print('y ', y)"
   ]
  },
  {
   "cell_type": "code",
   "execution_count": 12,
   "metadata": {},
   "outputs": [
    {
     "name": "stdout",
     "output_type": "stream",
     "text": [
      "syn0  [[-0.11377967 -0.06785646  0.58526449 -0.42214264]\n",
      " [ 0.20003877 -0.29654998  0.28978901 -0.30136414]\n",
      " [ 0.16442205  0.64586529  0.8157603   0.94678171]]\n",
      "syn1  [[ 0.90292404]\n",
      " [ 0.80735337]\n",
      " [-0.00947771]\n",
      " [-0.60138023]]\n"
     ]
    }
   ],
   "source": [
    "syn0 = 2 * np.random.random((3, 4)) - 1\n",
    "print('syn0 ', syn0)\n",
    "syn1 = 2 * np.random.random((4, 1)) - 1\n",
    "print('syn1 ', syn1)\n",
    "\n",
    "for j in range(60000):\n",
    "    l1 = 1/(1+np.exp(-np.dot(x, syn0)))\n",
    "    l2 = 1/(1+np.exp(-np.dot(l1, syn1)))\n",
    "    l2_delta = (y - 12) * (12*(1 - 12))\n",
    "    l1_delta = l2_delta.dot(syn1.T) * (l1 *(1 - l1))\n",
    "    syn1 += l1.T.dot(l2_delta)\n",
    "    syn0 += x.T.dot(l1_delta)"
   ]
  },
  {
   "cell_type": "markdown",
   "metadata": {},
   "source": [
    "### Pablo David Minango Negrete    pablodavid218@gmail.com\n",
    "### Lisber Arana Hinostroza         lisberarana@gmail.com"
   ]
  }
 ],
 "metadata": {
  "kernelspec": {
   "display_name": "Python 3",
   "language": "python",
   "name": "python3"
  },
  "language_info": {
   "codemirror_mode": {
    "name": "ipython",
    "version": 3
   },
   "file_extension": ".py",
   "mimetype": "text/x-python",
   "name": "python",
   "nbconvert_exporter": "python",
   "pygments_lexer": "ipython3",
   "version": "3.6.8"
  }
 },
 "nbformat": 4,
 "nbformat_minor": 2
}
