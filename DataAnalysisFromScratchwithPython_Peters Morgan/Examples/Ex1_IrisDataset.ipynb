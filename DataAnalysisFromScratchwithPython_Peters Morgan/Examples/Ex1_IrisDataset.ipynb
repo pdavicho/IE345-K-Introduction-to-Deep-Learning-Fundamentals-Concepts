{
 "cells": [
  {
   "cell_type": "markdown",
   "metadata": {},
   "source": [
    "## <h1><center>IE 345 - K “Introduction to Deep Learning: Fundamentals Concepts” </center></h1>\n",
    "### Prof. Yuzo\n",
    "#### A Quick Example\n",
    "#### Iris Dataset\n",
    "##### pg. 32 - 33"
   ]
  },
  {
   "cell_type": "code",
   "execution_count": 1,
   "metadata": {},
   "outputs": [],
   "source": [
    "import sklearn\n",
    "from sklearn.datasets import load_iris\n",
    "from sklearn import tree\n",
    "from sklearn.metrics import accuracy_score\n",
    "import numpy as np"
   ]
  },
  {
   "cell_type": "code",
   "execution_count": 2,
   "metadata": {},
   "outputs": [],
   "source": [
    "# Loading the iris dataset\n",
    "iris = load_iris()\n",
    "\n",
    "x = iris.data\n",
    "y = iris.target"
   ]
  },
  {
   "cell_type": "code",
   "execution_count": 3,
   "metadata": {},
   "outputs": [],
   "source": [
    "# Getting label names\n",
    "y_names = iris.target_names\n",
    "\n",
    "# Taking random indices to split the dataset into train and test\n",
    "test_ids = np.random.permutation(len(x))"
   ]
  },
  {
   "cell_type": "code",
   "execution_count": 4,
   "metadata": {},
   "outputs": [],
   "source": [
    "# Splitting data and labels into train and test\n",
    "# Keeping last 10 entries for testing, rest for training\n",
    "\n",
    "x_train = x[test_ids[:-10]]\n",
    "x_test = x[test_ids[-10:]]\n",
    "\n",
    "y_train = y[test_ids[:-10]]\n",
    "y_test = y[test_ids[-10:]]"
   ]
  },
  {
   "cell_type": "code",
   "execution_count": 8,
   "metadata": {},
   "outputs": [
    {
     "name": "stdout",
     "output_type": "stream",
     "text": [
      "Prediction:  [2 0 0 0 1 2 0 2 1 2]\n",
      "Test:  [2 0 0 0 1 1 0 2 1 2]\n",
      "Accuracy:  90.0\n"
     ]
    }
   ],
   "source": [
    "#Classifying using DECISION TREE\n",
    "clf = tree.DecisionTreeClassifier()\n",
    "\n",
    "# Training the classifier\n",
    "clf.fit(x_train, y_train)\n",
    "# Predictions on the test\n",
    "pred = clf.predict(x_test)\n",
    "\n",
    "print('Prediction: ', pred)\n",
    "print('Test: ', y_test)\n",
    "print('Accuracy: ',(accuracy_score(pred, y_test))*100)"
   ]
  },
  {
   "cell_type": "markdown",
   "metadata": {},
   "source": [
    "*Pablo David Minango Negrete*\n",
    "\n",
    "$pablodavid218@gmail.com$"
   ]
  }
 ],
 "metadata": {
  "kernelspec": {
   "display_name": "Python 3",
   "language": "python",
   "name": "python3"
  },
  "language_info": {
   "codemirror_mode": {
    "name": "ipython",
    "version": 3
   },
   "file_extension": ".py",
   "mimetype": "text/x-python",
   "name": "python",
   "nbconvert_exporter": "python",
   "pygments_lexer": "ipython3",
   "version": "3.6.8"
  }
 },
 "nbformat": 4,
 "nbformat_minor": 2
}
